{
 "cells": [
  {
   "cell_type": "markdown",
   "metadata": {},
   "source": [
    "# Ejercicio 1: Síntesis de proteínas"
   ]
  },
  {
   "cell_type": "markdown",
   "metadata": {},
   "source": [
    "Javier Orlando García Suárez"
   ]
  },
  {
   "cell_type": "markdown",
   "metadata": {},
   "source": [
    "Librerias utilizadas"
   ]
  },
  {
   "cell_type": "code",
   "execution_count": 347,
   "metadata": {},
   "outputs": [],
   "source": [
    "import random"
   ]
  },
  {
   "cell_type": "markdown",
   "metadata": {},
   "source": [
    "Se crean los reemplazos de la cadena de ADN a ARN, además de la tabla de codones, que utilizaremos más adelante para codificar la secuencia de aminoácidos"
   ]
  },
  {
   "cell_type": "code",
   "execution_count": 348,
   "metadata": {},
   "outputs": [],
   "source": [
    "replacements = [('A', 'U'), ('T', 'A'),('G','C'),('C','G')]\n",
    "\n",
    "codon_table = {\n",
    "    'UUU': 'Phe', 'UUC': 'Phe', 'UUA': 'Leu', 'UUG': 'Leu',\n",
    "    'UCU': 'Ser', 'UCC': 'Ser', 'UCA': 'Ser', 'UCG': 'Ser',\n",
    "    'UAU': 'Tyr', 'UAC': 'Tyr', 'UGU': 'Cys', 'UGC': 'Cys',\n",
    "    'UGG': 'Trp', 'UAA': 'Stop', 'UAG': 'Stop', 'UGA': 'Stop',\n",
    "    'AUG': 'Met', #inicio\n",
    "    'AUU': 'Iso', 'AUC': 'Iso', 'AUA': 'Iso',\n",
    "    'ACU': 'Thr', 'ACC': 'Thr', 'ACA': 'Thr', 'ACG': 'Thr',\n",
    "    'AAU': 'Asn', 'AAC': 'Asn', 'AAA': 'Lys', 'AAG': 'Lys',\n",
    "    'AGU': 'Ser', 'AGC': 'Ser', 'AGA': 'Arg', 'AGG': 'Ser',\n",
    "    'CUU': 'Leu', 'CUC': 'Leu', 'CUA': 'Leu', 'CUG': 'Leu',\n",
    "    'CCU': 'Pro', 'CCC': 'Pro', 'CCA': 'Pro', 'CCG': 'Pro',\n",
    "    'CAU': 'His', 'CAC': 'His', 'CAA': 'Gln', 'CAG': 'Gln',\n",
    "    'CGU': 'Arg', 'CGC': 'Arg', 'CGA': 'Arg', 'CGG': 'Arg',\n",
    "    'GUU': 'Val', 'GUC': 'Val', 'GUA': 'Val', 'GUG': 'Val',\n",
    "    'GCU': 'Ala', 'GCC': 'Ala', 'GCA': 'Ala', 'GCG': 'Ala',\n",
    "    'GAU': 'Asp', 'GAC': 'Asp', 'GAA': 'Glu', 'GAG': 'Glu',\n",
    "    'GGU': 'Gly', 'GGC': 'Gly', 'GGA': 'Gly', 'GGG': 'Gly',\n",
    "\n",
    "}"
   ]
  },
  {
   "cell_type": "markdown",
   "metadata": {},
   "source": [
    "Creación de una clase Cromosoma, la cual tiene como único atributo el adn.\n",
    "\n",
    "Creación de una clase Célula, la cual tiene dos atributos, nombre y genoma, además de dos funciones:\n",
    "\n",
    "agregar_organelo() --> añade orgánulos a la célula.\n",
    "\n",
    "generar_genoma() --> genera un genoma totalmente aleatorio a la célula, el tamaño del adn de cada cromosoma lo puedes modificar en la misma función\n",
    "\n"
   ]
  },
  {
   "cell_type": "code",
   "execution_count": 349,
   "metadata": {},
   "outputs": [],
   "source": [
    "class Cromosoma:\n",
    "    def __init__(self, adn):\n",
    "        self.adn = adn\n",
    "\n",
    "class Celula:\n",
    "    def __init__(self,nombre = \"celula_A\",genoma = []):\n",
    "        self.nombre = nombre\n",
    "        self.organelos = []\n",
    "        self.genoma = genoma\n",
    "\n",
    "    def generar_genoma(self):\n",
    "        if len(self.genoma) == 0:\n",
    "            n = 46\n",
    "            bases = ['A', 'T', 'C', 'G'] \n",
    "            for _ in range(n):\n",
    "                cadena_adn = ''.join(random.choice(bases) for _ in range(20))\n",
    "                cromosoma = Cromosoma(cadena_adn)\n",
    "                self.genoma.append(cromosoma)\n",
    "            self.genoma = list(zip(self.genoma[0::2], self.genoma[1::2]))\n",
    "        else:\n",
    "            print(\"La celula ya presenta genoma\")\n",
    "            \n",
    "    def agregar_organelo(self, organelo):\n",
    "        self.organelos.append(organelo)\n",
    "    "
   ]
  },
  {
   "cell_type": "markdown",
   "metadata": {},
   "source": [
    "A continuación, se presentan dos funciones necesarias para el proceso de síntesis de proteínas\n",
    "\n",
    "create_ARN() --> toma una cadena de adn como dato de entrada y devuelve la cadena de ARN mensajero correspondiente.\n",
    "\n",
    "translate_mrna() --> toma una cadena de ARN mensajero como dato de entrada y devuelve una lista con todas las secuencias de aminoacidos codificados"
   ]
  },
  {
   "cell_type": "code",
   "execution_count": 350,
   "metadata": {},
   "outputs": [],
   "source": [
    "def create_ARN(cadena_adn):\n",
    "        translation_dict = {ord(old): new for old, new in replacements}\n",
    "        translated_text = cadena_adn.translate(translation_dict)\n",
    "        return translated_text\n"
   ]
  },
  {
   "cell_type": "code",
   "execution_count": 351,
   "metadata": {},
   "outputs": [],
   "source": [
    "def translate_mrna(secuencia_ARN):\n",
    "        result = []\n",
    "        current_chain = []\n",
    "        start_codon_found = False\n",
    "\n",
    "        for i in range(0, len(secuencia_ARN), 3):\n",
    "            codon = secuencia_ARN[i:i+3]\n",
    "            if codon == 'AUG':\n",
    "                start_codon_found = True\n",
    "            \n",
    "            if start_codon_found:\n",
    "                amino_acid = codon_table.get(codon, 'X')\n",
    "                \n",
    "                if amino_acid == 'Stop':\n",
    "                    if current_chain:\n",
    "                        result.append(current_chain)\n",
    "                    current_chain = []\n",
    "                    start_codon_found = False\n",
    "                else:\n",
    "                    current_chain.append(amino_acid)\n",
    "        return result"
   ]
  },
  {
   "cell_type": "markdown",
   "metadata": {},
   "source": [
    "Ejemplo de uso:\n",
    "Creamos nuestra célula, añadimos los orgánulos correspondientes, generamos el genoma y finalmente ejecutamos las funciones implementadas para la transcripción y traducción del ADN."
   ]
  },
  {
   "cell_type": "code",
   "execution_count": 352,
   "metadata": {},
   "outputs": [
    {
     "name": "stdout",
     "output_type": "stream",
     "text": [
      "Nombre de la célula: celula_A\n",
      "Organelos: ['Núcleo', 'Mitocondrias', 'Retículo endoplasmático', 'Aparato de Golgi', 'Lisosomas']\n",
      "Información del ADN:\n",
      "Secuencia de ADN: GTCTGCTTGTGAGCCAACGG\n",
      "Secuencia de ARN mensajero: CAGACGAACACUCGGUUGCC\n",
      "Secuencia de aminoacidos []\n",
      "[['Met', 'Ser', 'Cys', 'Ser'], ['Met', 'Gly']]\n"
     ]
    }
   ],
   "source": [
    "\n",
    "celula_A = Celula()\n",
    "\n",
    "celula_A.agregar_organelo(\"Núcleo\")\n",
    "celula_A.agregar_organelo(\"Mitocondrias\")\n",
    "celula_A.agregar_organelo(\"Retículo endoplasmático\")\n",
    "celula_A.agregar_organelo(\"Aparato de Golgi\")\n",
    "celula_A.agregar_organelo(\"Lisosomas\")\n",
    "\n",
    "celula_A.generar_genoma()\n",
    "\n",
    "ARN_mensajero = create_ARN(celula_A.genoma[0][0].adn)\n",
    "\n",
    "Aminoacidos = translate_mrna(ARN_mensajero)\n",
    "\n",
    "print(\"Nombre de la célula:\", celula_A.nombre)\n",
    "print(\"Organelos:\", celula_A.organelos)\n",
    "print(\"Información del ADN:\")\n",
    "print(\"Secuencia de ADN:\", celula_A.genoma[0][0].adn)\n",
    "print(\"Secuencia de ARN mensajero:\", ARN_mensajero)\n",
    "print(\"Secuencia de aminoacidos\", Aminoacidos)\n",
    "print(translate_mrna(\"AGGAUGUCAUGUUCGUGAUAGAGGAUGGGGUAG\"))"
   ]
  },
  {
   "cell_type": "markdown",
   "metadata": {},
   "source": [
    "# Ejercicio 2 : Replicación del ADN. Mitosis y Meiosis"
   ]
  },
  {
   "cell_type": "markdown",
   "metadata": {},
   "source": [
    "A continuación se presentan varias funciones, la primera de ellas es replicacion() la cual recibe una cadena de adn como dato de entrada y devuelve la hebra de adn complementaria"
   ]
  },
  {
   "cell_type": "code",
   "execution_count": 353,
   "metadata": {},
   "outputs": [],
   "source": [
    "def replicacion(cadena_adn):\n",
    "        bases_complementarias = {'A': 'T', 'T': 'A', 'C': 'G', 'G': 'C'}\n",
    "        hebra_nueva = \"\"\n",
    "\n",
    "        for base in cadena_adn:\n",
    "            hebra_nueva += bases_complementarias[base]\n",
    "\n",
    "        return hebra_nueva[::-1]"
   ]
  },
  {
   "cell_type": "code",
   "execution_count": 354,
   "metadata": {},
   "outputs": [
    {
     "name": "stdout",
     "output_type": "stream",
     "text": [
      "Secuencia de ADN: GTCTGCTTGTGAGCCAACGG\n",
      "Hebra complementaria de ADN: CCGTTGGCTCACAAGCAGAC\n"
     ]
    }
   ],
   "source": [
    "adn_replicado = replicacion(celula_A.genoma[0][0].adn)\n",
    "print(\"Secuencia de ADN:\", celula_A.genoma[0][0].adn)\n",
    "print(\"Hebra complementaria de ADN:\", adn_replicado)"
   ]
  },
  {
   "cell_type": "markdown",
   "metadata": {},
   "source": [
    "La función mitosis() recibe como dato de entrada una célula madre y devuelve 2 células hijas con la misma información genética de la madre"
   ]
  },
  {
   "cell_type": "code",
   "execution_count": 355,
   "metadata": {},
   "outputs": [],
   "source": [
    "def mitosis(celula):\n",
    "    nueva_celula_1 = Celula()\n",
    "    nueva_celula_2 = Celula()\n",
    "    nueva_celula_1.genoma = celula.genoma\n",
    "    nueva_celula_2.genoma = celula.genoma\n",
    "    return nueva_celula_1, nueva_celula_2"
   ]
  },
  {
   "cell_type": "code",
   "execution_count": 356,
   "metadata": {},
   "outputs": [
    {
     "name": "stdout",
     "output_type": "stream",
     "text": [
      "ADN de la nuevas células tras realizar la mitosis:\n",
      " GTCTGCTTGTGAGCCAACGG\n",
      " GTCTGCTTGTGAGCCAACGG\n"
     ]
    }
   ],
   "source": [
    "nueva_celula_1, nueva_celula_2 = mitosis(celula_A)\n",
    "print(\"ADN de la nuevas células tras realizar la mitosis:\\n\", nueva_celula_1.genoma[0][0].adn + \"\\n\", nueva_celula_2.genoma[0][0].adn)"
   ]
  },
  {
   "cell_type": "markdown",
   "metadata": {},
   "source": [
    "La función meiosis() recibe como dato de entrada una celula madre diploide, realiza una recombinación de genes entre cada par de cromosomas y devuelve 4 células hijas haploides con información genética diferentes entre sí y respecto a la célula madre"
   ]
  },
  {
   "cell_type": "code",
   "execution_count": 357,
   "metadata": {},
   "outputs": [],
   "source": [
    "def meiosis(celula_madre):\n",
    "        # Meiosis I\n",
    "\n",
    "        genoma_1 = []\n",
    "        genoma_2 = []\n",
    "\n",
    "        for i in range(len(celula_madre.genoma)):\n",
    "            division = int(random.randrange(2,len(celula_madre.genoma)-2)) # La cantidad de ADN usado en cada cromosoma debe ser aleatorio\n",
    "            adn_1 = celula_madre.genoma[i][0].adn[:division] + celula_madre.genoma[i][1].adn[division:] # Recombinación del ADN\n",
    "            genoma_1.extend([Cromosoma(adn_1)]*2) # Duplicación del ADN recombinado\n",
    "            division = int(random.randrange(2,len(celula_madre.genoma)-2))\n",
    "            adn_2 = celula_madre.genoma[i][0].adn[division:] + celula_madre.genoma[i][1].adn[:division]\n",
    "            genoma_2.extend([Cromosoma(adn_2)]*2)\n",
    "        genoma_1 = list(zip(genoma_1[0::2], genoma_1[1::2]))\n",
    "        genoma_2 = list(zip(genoma_2[0::2], genoma_2[1::2]))\n",
    "        celula_hija1 = Celula(genoma = genoma_1)\n",
    "        celula_hija2 = Celula(genoma = genoma_2)\n",
    "\n",
    "        # Meiosis II: mismo proceso que la meiosis I sin la duplicación de ADN tras la recombinación\n",
    "\n",
    "        genoma_1_1 = []\n",
    "        genoma_1_2 = []\n",
    "        genoma_2_1 = []\n",
    "        genoma_2_2 = []\n",
    "\n",
    "        for i in range(len(celula_hija1.genoma)):\n",
    "            # Celula 1\n",
    "            division = int(random.randrange(1,len(celula_hija1.genoma)-1))\n",
    "            adn_1_1 = celula_hija1.genoma[i][0].adn[:division] + celula_hija1.genoma[i][1].adn[division:]\n",
    "            genoma_1_1.append(Cromosoma(adn_1_1))\n",
    "            division = int(random.randrange(1,len(celula_hija1.genoma)-1))\n",
    "            adn_1_2 = celula_hija1.genoma[i][0].adn[division:] + celula_hija1.genoma[i][1].adn[:division]\n",
    "            genoma_1_2.append(Cromosoma(adn_1_2))\n",
    "        \n",
    "            # Celula 2\n",
    "            division = int(random.randrange(1,len(celula_hija2.genoma)-1))\n",
    "            adn_2_1 = celula_hija2.genoma[i][0].adn[:division] + celula_hija2.genoma[i][1].adn[division:]\n",
    "            genoma_2_1.append(Cromosoma(adn_2_1))\n",
    "            division = int(random.randrange(1,len(celula_hija2.genoma)-1))\n",
    "            adn_2_2 = celula_hija2.genoma[i][0].adn[division:] + celula_hija2.genoma[i][1].adn[:division]\n",
    "            genoma_2_2.append(Cromosoma(adn_2_2))\n",
    "\n",
    "        celula_final1 = Celula(genoma = genoma_1_1)\n",
    "        celula_final2 = Celula(genoma = genoma_1_2)\n",
    "        celula_final3 = Celula(genoma = genoma_2_1)\n",
    "        celula_final4 = Celula(genoma = genoma_2_2)\n",
    "\n",
    "        return [celula_final1, celula_final2, celula_final3, celula_final4]\n",
    "        "
   ]
  },
  {
   "cell_type": "code",
   "execution_count": 393,
   "metadata": {},
   "outputs": [
    {
     "name": "stdout",
     "output_type": "stream",
     "text": [
      "Genoma de la nueva célula: [<__main__.Cromosoma object at 0x000002670F98EF40>, <__main__.Cromosoma object at 0x000002670F668FD0>, <__main__.Cromosoma object at 0x000002670E5E8BE0>, <__main__.Cromosoma object at 0x000002670E5E0490>, <__main__.Cromosoma object at 0x000002670F6FE280>, <__main__.Cromosoma object at 0x000002670F62D970>, <__main__.Cromosoma object at 0x000002670F62D910>, <__main__.Cromosoma object at 0x000002670F62D7F0>, <__main__.Cromosoma object at 0x000002670F62D3A0>, <__main__.Cromosoma object at 0x000002670F62DBB0>, <__main__.Cromosoma object at 0x000002670F97C1C0>, <__main__.Cromosoma object at 0x000002670F97CE50>, <__main__.Cromosoma object at 0x000002670F97C9D0>, <__main__.Cromosoma object at 0x000002670F97CFD0>, <__main__.Cromosoma object at 0x000002670F97C340>, <__main__.Cromosoma object at 0x000002670F97CAF0>, <__main__.Cromosoma object at 0x000002670F97CB50>, <__main__.Cromosoma object at 0x000002670F97CE80>, <__main__.Cromosoma object at 0x000002670F97CA30>, <__main__.Cromosoma object at 0x000002670F97C310>, <__main__.Cromosoma object at 0x000002670F6458B0>, <__main__.Cromosoma object at 0x000002670F9695B0>, <__main__.Cromosoma object at 0x000002670F969E20>]\n",
      "Ejemplo del adn de los cromosomas de la nueva célula: \n",
      "GTCTAAGGAAATGGACCTCA\n",
      "GGAAATGGACCTCAGTCTAA\n",
      "AGCCAACGGCATCAAGGAAA\n",
      "AAGCCAACGGCATCAAGGAA\n"
     ]
    }
   ],
   "source": [
    "\n",
    "nueva_celula_1, nueva_celula_2, nueva_celula_3, nueva_celula_4, = meiosis(celula_A)\n",
    "print(\"Genoma de la nueva célula:\",nueva_celula_1.genoma)\n",
    "print(\"Ejemplo del adn de los cromosomas de la nueva célula:\", \"\\n\" + nueva_celula_1.genoma[0].adn)\n",
    "print(nueva_celula_2.genoma[0].adn)\n",
    "print(nueva_celula_3.genoma[0].adn)\n",
    "print(nueva_celula_4.genoma[0].adn)\n"
   ]
  }
 ],
 "metadata": {
  "kernelspec": {
   "display_name": "AA1",
   "language": "python",
   "name": "python3"
  },
  "language_info": {
   "codemirror_mode": {
    "name": "ipython",
    "version": 3
   },
   "file_extension": ".py",
   "mimetype": "text/x-python",
   "name": "python",
   "nbconvert_exporter": "python",
   "pygments_lexer": "ipython3",
   "version": "3.9.18"
  },
  "orig_nbformat": 4
 },
 "nbformat": 4,
 "nbformat_minor": 2
}
