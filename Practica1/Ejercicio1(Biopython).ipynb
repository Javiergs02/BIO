{
 "cells": [
  {
   "cell_type": "markdown",
   "metadata": {},
   "source": [
    " # Ejercicio 1: Síntesis de proteínas (Biopython)"
   ]
  },
  {
   "cell_type": "markdown",
   "metadata": {},
   "source": [
    "Javier Orlando García Suárez"
   ]
  },
  {
   "cell_type": "markdown",
   "metadata": {},
   "source": [
    "A continuación, se realiza la sintesís de proteínas a partir de una librería llamada Biopython, la cual tiene una gran utilidad en tares relacionadas con la bioinformática, enlace al manual de dicha librería: http://biopython.org/DIST/docs/tutorial/Tutorial.html\n"
   ]
  },
  {
   "cell_type": "markdown",
   "metadata": {},
   "source": [
    "Librerías utilizadas (instalar Biopython)"
   ]
  },
  {
   "cell_type": "code",
   "execution_count": 8,
   "metadata": {},
   "outputs": [],
   "source": [
    "\n",
    "from Bio import SeqIO\n",
    "from Bio import Entrez\n",
    "from Bio.Seq import Seq\n"
   ]
  },
  {
   "cell_type": "markdown",
   "metadata": {},
   "source": [
    "Usamos una clase Seq() proveniente de Biopython, la cual simula mejor el comportamiento del ADN ya que, al contario de una simple cadena de texto, es inmutable (aunque es posible generar mutaciones con funciones de la librería) y además, permite realizar todas las acciones que tienen que ver con el ADN tales como replicación, transcripción y traducción"
   ]
  },
  {
   "cell_type": "code",
   "execution_count": 9,
   "metadata": {},
   "outputs": [
    {
     "name": "stdout",
     "output_type": "stream",
     "text": [
      "La cadena de ADN es: ATGGCCATTGTAATGGGCCGCTGAAAGGGTGCCCGATAG\n",
      "La hebra complementaria de ADN es: CTATCGGGCACCCTTTCAGCGGCCCATTACAATGGCCAT\n",
      "La cadena de ARN es: AUGGCCAUUGUAAUGGGCCGCUGAAAGGGUGCCCGAUAG\n",
      "La secuencia de aminoacidos es: MAIVMGR*KGAR*\n"
     ]
    }
   ],
   "source": [
    "dna = Seq(\"ATGGCCATTGTAATGGGCCGCTGAAAGGGTGCCCGATAG\")\n",
    "template_dna = dna.reverse_complement() # Replicación\n",
    "arn = dna.transcribe() # Transcripción\n",
    "aminoacids = dna.translate() # Traducción\n",
    "print(\"La cadena de ADN es:\",dna)\n",
    "print(\"La hebra complementaria de ADN es:\",template_dna)\n",
    "print(\"La cadena de ARN es:\",arn)\n",
    "print(\"La secuencia de aminoacidos es:\",aminoacids)"
   ]
  },
  {
   "cell_type": "markdown",
   "metadata": {},
   "source": [
    "Además, puedes conectarte a diversas bases de datos de proteínas para obtener información de alguna de ellas, en este caso, se accede mediante un identificador y te permite obtener una breve descripción, número de características, secuencia de ADN de la que proviene y secuencia de aminoacidos que la codifica, entre otras muchas cosas."
   ]
  },
  {
   "cell_type": "code",
   "execution_count": 10,
   "metadata": {},
   "outputs": [
    {
     "name": "stdout",
     "output_type": "stream",
     "text": [
      "Descripción: Selenipedium aequinoctiale maturase K (matK) gene, partial cds; chloroplast\n",
      "La cadena de ADN que corresponde a la proteína es: ID: <unknown id>\n",
      "Name: <unknown name>\n",
      "Description: <unknown description>\n",
      "Number of features: 3\n",
      "Seq('TTCTTCTTCCATAAAGAATTCTTCTAATAATCCCGAACCTAATCTTCGCATAAA...AAT')\n",
      "La secuencia de aminoacidos es: IFYEPVEIFGYDNKSSLVLVKRLITRMYQQNFLISSVNDSNQKGFWGHKHFFSSHFSSQMVSEGFGVILEIPFSSQLVSSLEEKKIPKYQNLRSIHSIFPFLEDKFLHLNYVSDLLIPHPIHLEILVQILQCRIKDVPSLHLLRLLFHEYHNLNSLITSKKFIYAFSKRKKRFLWLLYNSYVYECEYLFQFLRKQSSYLRSTSSGVFLERTHLYVKIEHLLVVCCNSFQRILCFLKDPFMHYVRYQGKAILASKGTLILMKKWKFHLVNFWQSYFHFWSQPYRIHIKQLSNYSFSFLGYFSSVLENHLVVRNQMLENSFIINLLTKKFDTIAPVISLIGSLSKAQFCTVLGHPISKPIWTDFSDSDILDRFCRICRNLCRYHSGSSKKQVLYRIKYILRLSCARTLARKHKSTVRTFMRRLGSGLLEEFFMEEE\n"
     ]
    }
   ],
   "source": [
    "\n",
    "Entrez.email = 'A.N.Other@example.com'\n",
    "handle = Entrez.efetch(db=\"nucleotide\", id=\"EU490707\", rettype=\"gb\", retmode=\"text\")\n",
    "record = SeqIO.read(handle, \"genbank\")\n",
    "handle.close()\n",
    "print(\"Descripción:\",record.description)\n",
    "print(\"La cadena de ADN que corresponde a la proteína es:\",record.reverse_complement())\n",
    "print(\"La secuencia de aminoacidos es:\",record.seq.translate())\n"
   ]
  },
  {
   "cell_type": "markdown",
   "metadata": {},
   "source": [
    "Considero que esta librería tiene mucho potencial en el área de la bioinformática y continuaré investigando sobre la misma en las siguientes prácticas"
   ]
  }
 ],
 "metadata": {
  "kernelspec": {
   "display_name": "Python 3",
   "language": "python",
   "name": "python3"
  },
  "language_info": {
   "codemirror_mode": {
    "name": "ipython",
    "version": 3
   },
   "file_extension": ".py",
   "mimetype": "text/x-python",
   "name": "python",
   "nbconvert_exporter": "python",
   "pygments_lexer": "ipython3",
   "version": "3.9.7"
  },
  "orig_nbformat": 4
 },
 "nbformat": 4,
 "nbformat_minor": 2
}
