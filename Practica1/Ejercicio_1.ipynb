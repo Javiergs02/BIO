{
 "cells": [
  {
   "cell_type": "markdown",
   "metadata": {},
   "source": [
    "# Ejercicio 1: Síntesis de proteínas"
   ]
  },
  {
   "cell_type": "markdown",
   "metadata": {},
   "source": [
    "Javier Orlando García Suárez"
   ]
  },
  {
   "cell_type": "markdown",
   "metadata": {},
   "source": [
    "Se crean los reemplazos de la cadena de ADN a ARN, además de la tabla de codones, que utilizaremos más adelante para codificar la secuencia de aminoácidos"
   ]
  },
  {
   "cell_type": "code",
   "execution_count": 12,
   "metadata": {},
   "outputs": [],
   "source": [
    "replacements = [('A', 'U'), ('T', 'A'),('G','C'),('C','G')]\n",
    "\n",
    "codon_table = {\n",
    "    'UUU': 'Phe', 'UUC': 'Phe', 'UUA': 'Leu', 'UUG': 'Leu',\n",
    "    'UCU': 'Ser', 'UCC': 'Ser', 'UCA': 'Ser', 'UCG': 'Ser',\n",
    "    'UAU': 'Tyr', 'UAC': 'Tyr', 'UGU': 'Cys', 'UGC': 'Cys',\n",
    "    'UGG': 'Trp', 'UAA': 'Stop', 'UAG': 'Stop', 'UGA': 'Stop',\n",
    "    'AUG': 'Met', #inicio\n",
    "    'AUU': 'Iso', 'AUC': 'Iso', 'AUA': 'Iso',\n",
    "    'ACU': 'Thr', 'ACC': 'Thr', 'ACA': 'Thr', 'ACG': 'Thr',\n",
    "    'AAU': 'Asn', 'AAC': 'Asn', 'AAA': 'Lys', 'AAG': 'Lys',\n",
    "    'AGU': 'Ser', 'AGC': 'Ser', 'AGA': 'Arg', 'AGG': 'Ser',\n",
    "    'CUU': 'Leu', 'CUC': 'Leu', 'CUA': 'Leu', 'CUG': 'Leu',\n",
    "    'CCU': 'Pro', 'CCC': 'Pro', 'CCA': 'Pro', 'CCG': 'Pro',\n",
    "    'CAU': 'His', 'CAC': 'His', 'CAA': 'Gln', 'CAG': 'Gln',\n",
    "    'CGU': 'Arg', 'CGC': 'Arg', 'CGA': 'Arg', 'CGG': 'Arg',\n",
    "    'GUU': 'Val', 'GUC': 'Val', 'GUA': 'Val', 'GUG': 'Val',\n",
    "    'GCU': 'Ala', 'GCC': 'Ala', 'GCA': 'Ala', 'GCG': 'Ala',\n",
    "    'GAU': 'Asp', 'GAC': 'Asp', 'GAA': 'Glu', 'GAG': 'Glu',\n",
    "    'GGU': 'Gly', 'GGC': 'Gly', 'GGA': 'Gly', 'GGG': 'Gly',\n",
    "\n",
    "}"
   ]
  },
  {
   "cell_type": "markdown",
   "metadata": {},
   "source": [
    "Creación de una clase Célula, la cual tiene una serie de atributos propios de las células, además de tres funciones:\n",
    "\n",
    "agregar_organelo() --> añade orgánulos a la célula.\n",
    "\n",
    "create_ARN() --> toma una cadena de ADN como dato de entrada y devuelve la cadena de ARN mensajero correspondiente.\n",
    "\n",
    "translate_mrna() --> toma una cadena de ARN mensajero como dato de entrada y devuelve una lista con todas las secuencias de aminoacidos codificados"
   ]
  },
  {
   "cell_type": "code",
   "execution_count": 13,
   "metadata": {},
   "outputs": [],
   "source": [
    "\n",
    "class Celula:\n",
    "    def __init__(self, nombre, tipo):\n",
    "        self.nombre = nombre\n",
    "        self.tipo = tipo\n",
    "        self.organelos = []\n",
    "        self.adn = None\n",
    "\n",
    "    def agregar_organelo(self, organelo):\n",
    "        self.organelos.append(organelo)\n",
    "\n",
    "    def create_ARN(self, secuencia_adn):\n",
    "        self.adn = secuencia_adn\n",
    "        translation_dict = {ord(old): new for old, new in replacements}\n",
    "        translated_text = secuencia_adn.translate(translation_dict)\n",
    "        return translated_text\n",
    "    \n",
    "    def translate_mrna(self,secuencia_ARN):\n",
    "        result = []\n",
    "        current_chain = []\n",
    "        start_codon_found = False\n",
    "\n",
    "        for i in range(0, len(secuencia_ARN), 3):\n",
    "            codon = secuencia_ARN[i:i+3]\n",
    "            if codon == 'AUG':\n",
    "                start_codon_found = True\n",
    "            \n",
    "            if start_codon_found:\n",
    "                amino_acid = codon_table.get(codon, 'X')\n",
    "                \n",
    "                if amino_acid == 'Stop':\n",
    "                    if current_chain:\n",
    "                        result.append(current_chain)\n",
    "                    current_chain = []\n",
    "                    start_codon_found = False\n",
    "                else:\n",
    "                    current_chain.append(amino_acid)\n",
    "        \n",
    "        return result\n",
    "\n",
    "\n",
    "        "
   ]
  },
  {
   "cell_type": "markdown",
   "metadata": {},
   "source": [
    "Ejemplo de uso: Creamos nuestra célula del tipo que deseemos, añadimos los orgánulos correspondientes y finalmente ejecutamos las funciones implementadas para la transcripción y traducción del ADN."
   ]
  },
  {
   "cell_type": "code",
   "execution_count": 14,
   "metadata": {},
   "outputs": [
    {
     "name": "stdout",
     "output_type": "stream",
     "text": [
      "Nombre de la célula: Célula A\n",
      "Tipo de célula: Célula animal\n",
      "Organelos: ['Núcleo', 'Mitocondrias', 'Retículo endoplasmático', 'Aparato de Golgi', 'Lisosomas']\n",
      "Información del ADN:\n",
      "Secuencia de ADN: ATGTACTAGCATCGAATACTCGATCGATCTACGATCGAAGCTAGCTAGTACCCTAGCATCGATCGATCG\n",
      "Secuencia de ARN mensajero: UACAUGAUCGUAGCUUAUGAGCUAGCUAGAUGCUAGCUUCGAUCGAUCAUGGGAUCGUAGCUAGCUAGC\n",
      "Secuencia de aminoacidos [['Met', 'Iso', 'Val', 'Ala', 'Tyr', 'Glu', 'Leu', 'Ala', 'Arg', 'Cys'], ['Met', 'Gly', 'Ser']]\n"
     ]
    }
   ],
   "source": [
    "\n",
    "celula_A = Celula(\"Célula A\", \"Célula animal\")\n",
    "\n",
    "celula_A.agregar_organelo(\"Núcleo\")\n",
    "celula_A.agregar_organelo(\"Mitocondrias\")\n",
    "celula_A.agregar_organelo(\"Retículo endoplasmático\")\n",
    "celula_A.agregar_organelo(\"Aparato de Golgi\")\n",
    "celula_A.agregar_organelo(\"Lisosomas\")\n",
    "\n",
    "\n",
    "secuencia_adn_celula_A = \"ATGTACTAGCATCGAATACTCGATCGATCTACGATCGAAGCTAGCTAGTACCCTAGCATCGATCGATCG\"\n",
    "\n",
    "ARN_mensajero = celula_A.create_ARN(secuencia_adn_celula_A)\n",
    "\n",
    "Aminoacidos = celula_A.translate_mrna(ARN_mensajero)\n",
    "\n",
    "\n",
    "print(\"Nombre de la célula:\", celula_A.nombre)\n",
    "print(\"Tipo de célula:\", celula_A.tipo)\n",
    "print(\"Organelos:\", celula_A.organelos)\n",
    "print(\"Información del ADN:\")\n",
    "print(\"Secuencia de ADN:\", celula_A.adn)\n",
    "print(\"Secuencia de ARN mensajero:\", ARN_mensajero)\n",
    "print(\"Secuencia de aminoacidos\", Aminoacidos)\n"
   ]
  }
 ],
 "metadata": {
  "kernelspec": {
   "display_name": "AA1",
   "language": "python",
   "name": "python3"
  },
  "language_info": {
   "codemirror_mode": {
    "name": "ipython",
    "version": 3
   },
   "file_extension": ".py",
   "mimetype": "text/x-python",
   "name": "python",
   "nbconvert_exporter": "python",
   "pygments_lexer": "ipython3",
   "version": "3.9.7"
  },
  "orig_nbformat": 4
 },
 "nbformat": 4,
 "nbformat_minor": 2
}
